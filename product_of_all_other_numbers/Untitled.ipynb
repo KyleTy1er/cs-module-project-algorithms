{
 "cells": [
  {
   "cell_type": "code",
   "execution_count": 1,
   "metadata": {},
   "outputs": [],
   "source": [
    "def product_of_all_other_numbers(arr):     \n",
    "    n = len(arr)\n",
    "    if n == 1: \n",
    "        print(0) \n",
    "        return\n",
    "    i, temp = 1, 1\n",
    "    # creates a list of 1s the length of input array to be replaced by products\n",
    "    products = [1 for i in range(n)] \n",
    "    for i in range(n): \n",
    "        products[i] = temp \n",
    "        temp *= arr[i] \n",
    "    temp = 1\n",
    "    for i in range(n - 1, -1, -1): \n",
    "        products[i] *= temp \n",
    "        temp *= arr[i] \n",
    "\n",
    "    return product"
   ]
  },
  {
   "cell_type": "code",
   "execution_count": 19,
   "metadata": {},
   "outputs": [],
   "source": [
    "arr = [2, 2, 2, 2, 2, 2, 2]"
   ]
  },
  {
   "cell_type": "code",
   "execution_count": 20,
   "metadata": {},
   "outputs": [
    {
     "data": {
      "text/plain": [
       "[64, 64, 64, 64, 64, 64, 64]"
      ]
     },
     "execution_count": 20,
     "metadata": {},
     "output_type": "execute_result"
    }
   ],
   "source": [
    "product_of_all_other_numbers(arr)"
   ]
  },
  {
   "cell_type": "code",
   "execution_count": 16,
   "metadata": {},
   "outputs": [
    {
     "name": "stdout",
     "output_type": "stream",
     "text": [
      "[1, 1, 1, 1, 1, 1, 1]\n"
     ]
    }
   ],
   "source": [
    "arr = [2, 6, 9, 8, 7, 7, 8]\n",
    "\n",
    "n = len(arr)\n",
    "i, temp = 1, 1\n",
    "products = [1 for i in range(n)]\n",
    "for i in range(n): \n",
    "    products[i] = temp\n",
    "    temp *= arr[i]\n",
    "temp = 1\n",
    "for i in range(n - 1, -1, -1): \n",
    "    products[i] *= temp \n",
    "    temp *= arr[i] \n",
    "\n",
    "print (product)"
   ]
  },
  {
   "cell_type": "code",
   "execution_count": 13,
   "metadata": {},
   "outputs": [
    {
     "data": {
      "text/plain": [
       "1"
      ]
     },
     "execution_count": 13,
     "metadata": {},
     "output_type": "execute_result"
    }
   ],
   "source": [
    "temp"
   ]
  },
  {
   "cell_type": "code",
   "execution_count": null,
   "metadata": {},
   "outputs": [],
   "source": []
  }
 ],
 "metadata": {
  "kernelspec": {
   "display_name": "Python 3.7.4 64-bit ('base': conda)",
   "language": "python",
   "name": "python37464bitbaseconda0ab463595d1d41d19d5dab79bf159242"
  },
  "language_info": {
   "codemirror_mode": {
    "name": "ipython",
    "version": 3
   },
   "file_extension": ".py",
   "mimetype": "text/x-python",
   "name": "python",
   "nbconvert_exporter": "python",
   "pygments_lexer": "ipython3",
   "version": "3.7.4"
  }
 },
 "nbformat": 4,
 "nbformat_minor": 4
}
