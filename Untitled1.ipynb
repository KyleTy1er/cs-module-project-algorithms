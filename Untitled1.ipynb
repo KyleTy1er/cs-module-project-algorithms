{
 "cells": [
  {
   "cell_type": "code",
   "execution_count": 23,
   "metadata": {},
   "outputs": [],
   "source": [
    "arr = [2, 3, 6, 5]"
   ]
  },
  {
   "cell_type": "code",
   "execution_count": 76,
   "metadata": {},
   "outputs": [],
   "source": [
    "def product_of_all_other_numbers(arr):\n",
    "    prod = []\n",
    "    val = 1\n",
    "    for i in range(0, len(arr)):\n",
    "        for x in range(0, len(arr)):         \n",
    "            if i != x:         \n",
    "                val *= arr[x]\n",
    "        prod.append(val)\n",
    "        val = 1\n",
    "    return prod\n",
    "            \n",
    "#             prod.append(current_val)\n",
    "#     return prod\n",
    "        \n",
    "    # Your code here\n"
   ]
  },
  {
   "cell_type": "code",
   "execution_count": 77,
   "metadata": {},
   "outputs": [
    {
     "name": "stdout",
     "output_type": "stream",
     "text": [
      "------\n",
      "------\n",
      "------\n",
      "------\n"
     ]
    },
    {
     "data": {
      "text/plain": [
       "[90, 60, 30, 36]"
      ]
     },
     "execution_count": 77,
     "metadata": {},
     "output_type": "execute_result"
    }
   ],
   "source": [
    "product_of_all_other_numbers(arr)"
   ]
  },
  {
   "cell_type": "code",
   "execution_count": null,
   "metadata": {},
   "outputs": [],
   "source": [
    "def advProductOfTheOthers(num_array):\n",
    "    product = 1 #start the variable to hold the product of all numbers \\\n",
    "    #except the number itself\n",
    "    product_list = [] #final list to hold the values of each product\n",
    "    for i in range(0,len(num_array)): #loop though num_array\n",
    "        for n in num_array: #for each number in num_array\n",
    "            #if n is different from the current number of number (i), \\\n",
    "            #then multiply it by product, else it is ignored\n",
    "            if n != num_array[i]:\n",
    "                product *= n \n",
    "        product_list.append(product) #add product to the product_list list\n",
    "        product = 1  #restart the product variable\n",
    "    return product_list"
   ]
  }
 ],
 "metadata": {
  "kernelspec": {
   "display_name": "Python 3.7.6 64-bit ('base': conda)",
   "language": "python",
   "name": "python37664bitbasecondadd2447fd11dc42509ab85145dc47aedb"
  },
  "language_info": {
   "codemirror_mode": {
    "name": "ipython",
    "version": 3
   },
   "file_extension": ".py",
   "mimetype": "text/x-python",
   "name": "python",
   "nbconvert_exporter": "python",
   "pygments_lexer": "ipython3",
   "version": "3.7.6"
  }
 },
 "nbformat": 4,
 "nbformat_minor": 4
}
